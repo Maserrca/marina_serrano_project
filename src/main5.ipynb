{
 "metadata": {
  "language_info": {
   "codemirror_mode": {
    "name": "ipython",
    "version": 3
   },
   "file_extension": ".py",
   "mimetype": "text/x-python",
   "name": "python",
   "nbconvert_exporter": "python",
   "pygments_lexer": "ipython3",
   "version": "3.7.4"
  },
  "orig_nbformat": 4,
  "kernelspec": {
   "name": "python3",
   "display_name": "Python 3.7.4 64-bit"
  },
  "interpreter": {
   "hash": "797ece2db6cd49410b212500b07c3b6429b528fb918ab6c0d0ffbc4c51c5b09e"
  }
 },
 "nbformat": 4,
 "nbformat_minor": 2,
 "cells": [
  {
   "cell_type": "code",
   "execution_count": 1,
   "metadata": {},
   "outputs": [],
   "source": [
    "import matplotlib.pyplot as plt\n",
    "import numpy as np\n",
    "import pandas as pd\n",
    "import seaborn as sns\n",
    "import cv2\n",
    "import tensorflow as tf\n",
    "from tensorflow.keras.preprocessing.image import ImageDataGenerator\n",
    "from tqdm import tqdm\n",
    "import os\n",
    "from sklearn.utils import shuffle\n",
    "from sklearn.model_selection import train_test_split\n",
    "from tensorflow.keras.applications import EfficientNetB0\n",
    "from tensorflow.keras.callbacks import EarlyStopping, ReduceLROnPlateau, TensorBoard, ModelCheckpoint\n",
    "from sklearn.metrics import classification_report,confusion_matrix\n",
    "import ipywidgets as widgets\n",
    "import io\n",
    "from PIL import Image\n",
    "from IPython.display import display,clear_output\n",
    "from warnings import filterwarnings"
   ]
  },
  {
   "cell_type": "code",
   "execution_count": 2,
   "metadata": {},
   "outputs": [
    {
     "output_type": "stream",
     "name": "stdout",
     "text": [
      "d:\\COSAS\\BOOTCAMP\\MLProyect\n"
     ]
    }
   ],
   "source": [
    "dir = os.path.dirname\n",
    "path = dir(os.getcwd())\n",
    "print(path)\n",
    "sys.path.append(path)"
   ]
  },
  {
   "cell_type": "code",
   "execution_count": 3,
   "metadata": {},
   "outputs": [],
   "source": [
    "labels = ['glioma_tumor','no_tumor','meningioma_tumor','pituitary_tumor']"
   ]
  },
  {
   "cell_type": "code",
   "execution_count": 4,
   "metadata": {},
   "outputs": [
    {
     "output_type": "stream",
     "name": "stderr",
     "text": [
      "100%|██████████| 826/826 [00:02<00:00, 296.20it/s]\n",
      "100%|██████████| 395/395 [00:01<00:00, 358.14it/s]\n",
      "100%|██████████| 822/822 [00:07<00:00, 111.69it/s]\n",
      "100%|██████████| 827/827 [00:04<00:00, 203.32it/s]\n"
     ]
    },
    {
     "output_type": "execute_result",
     "data": {
      "text/plain": [
       "                                               Image         Label  \\\n",
       "0  [[[0, 0, 0], [0, 0, 0], [0, 0, 0], [0, 0, 0], ...  glioma_tumor   \n",
       "1  [[[0, 0, 0], [0, 0, 0], [0, 0, 0], [0, 0, 0], ...  glioma_tumor   \n",
       "2  [[[0, 0, 0], [0, 0, 0], [0, 0, 0], [0, 0, 0], ...  glioma_tumor   \n",
       "3  [[[0, 0, 0], [0, 0, 0], [0, 0, 0], [0, 0, 0], ...  glioma_tumor   \n",
       "4  [[[0, 0, 0], [0, 0, 0], [0, 0, 0], [0, 0, 0], ...  glioma_tumor   \n",
       "\n",
       "                                            Fullpath  \n",
       "0  d:\\COSAS\\BOOTCAMP\\MLProyect\\data\\Training\\glio...  \n",
       "1  d:\\COSAS\\BOOTCAMP\\MLProyect\\data\\Training\\glio...  \n",
       "2  d:\\COSAS\\BOOTCAMP\\MLProyect\\data\\Training\\glio...  \n",
       "3  d:\\COSAS\\BOOTCAMP\\MLProyect\\data\\Training\\glio...  \n",
       "4  d:\\COSAS\\BOOTCAMP\\MLProyect\\data\\Training\\glio...  "
      ],
      "text/html": "<div>\n<style scoped>\n    .dataframe tbody tr th:only-of-type {\n        vertical-align: middle;\n    }\n\n    .dataframe tbody tr th {\n        vertical-align: top;\n    }\n\n    .dataframe thead th {\n        text-align: right;\n    }\n</style>\n<table border=\"1\" class=\"dataframe\">\n  <thead>\n    <tr style=\"text-align: right;\">\n      <th></th>\n      <th>Image</th>\n      <th>Label</th>\n      <th>Fullpath</th>\n    </tr>\n  </thead>\n  <tbody>\n    <tr>\n      <th>0</th>\n      <td>[[[0, 0, 0], [0, 0, 0], [0, 0, 0], [0, 0, 0], ...</td>\n      <td>glioma_tumor</td>\n      <td>d:\\COSAS\\BOOTCAMP\\MLProyect\\data\\Training\\glio...</td>\n    </tr>\n    <tr>\n      <th>1</th>\n      <td>[[[0, 0, 0], [0, 0, 0], [0, 0, 0], [0, 0, 0], ...</td>\n      <td>glioma_tumor</td>\n      <td>d:\\COSAS\\BOOTCAMP\\MLProyect\\data\\Training\\glio...</td>\n    </tr>\n    <tr>\n      <th>2</th>\n      <td>[[[0, 0, 0], [0, 0, 0], [0, 0, 0], [0, 0, 0], ...</td>\n      <td>glioma_tumor</td>\n      <td>d:\\COSAS\\BOOTCAMP\\MLProyect\\data\\Training\\glio...</td>\n    </tr>\n    <tr>\n      <th>3</th>\n      <td>[[[0, 0, 0], [0, 0, 0], [0, 0, 0], [0, 0, 0], ...</td>\n      <td>glioma_tumor</td>\n      <td>d:\\COSAS\\BOOTCAMP\\MLProyect\\data\\Training\\glio...</td>\n    </tr>\n    <tr>\n      <th>4</th>\n      <td>[[[0, 0, 0], [0, 0, 0], [0, 0, 0], [0, 0, 0], ...</td>\n      <td>glioma_tumor</td>\n      <td>d:\\COSAS\\BOOTCAMP\\MLProyect\\data\\Training\\glio...</td>\n    </tr>\n  </tbody>\n</table>\n</div>"
     },
     "metadata": {},
     "execution_count": 4
    }
   ],
   "source": [
    "X_train = []\n",
    "y_train = []\n",
    "pathlist = []\n",
    "dicc = []\n",
    "image_size = 150\n",
    "for i in labels:\n",
    "    folderPath = dir(os.getcwd()) + os.sep + \"data\"+ os.sep +'Training' + os.sep + i\n",
    "    for j in tqdm(os.listdir(folderPath)):\n",
    "        img = cv2.imread(os.path.join(folderPath,j))\n",
    "        img = cv2.resize(img,(image_size, image_size))\n",
    "        X_train.append(img)\n",
    "        y_train.append(i)\n",
    "        pathlist.append(folderPath + os.sep + j)\n",
    "        dicc.append({\"Image\":img, \"Label\":i, \"Fullpath\":os.path.join(folderPath,j)})\n",
    "\n",
    "X_train = np.array(X_train)\n",
    "y_train = np.array(y_train)\n",
    "pathlist = np.array(pathlist)\n",
    "\n",
    "df_train = pd.DataFrame(dicc)\n",
    "df_train.head()"
   ]
  },
  {
   "cell_type": "code",
   "execution_count": 5,
   "metadata": {},
   "outputs": [
    {
     "output_type": "stream",
     "name": "stderr",
     "text": [
      "100%|██████████| 100/100 [00:00<00:00, 166.56it/s]\n",
      "100%|██████████| 105/105 [00:00<00:00, 398.37it/s]\n",
      "100%|██████████| 115/115 [00:00<00:00, 279.31it/s]\n",
      "100%|██████████| 74/74 [00:00<00:00, 104.94it/s]\n"
     ]
    },
    {
     "output_type": "execute_result",
     "data": {
      "text/plain": [
       "                                               Image         Label  \\\n",
       "0  [[[0, 0, 0], [0, 0, 0], [0, 0, 0], [0, 0, 0], ...  glioma_tumor   \n",
       "1  [[[0, 0, 0], [0, 0, 0], [0, 0, 0], [0, 0, 0], ...  glioma_tumor   \n",
       "2  [[[7, 7, 7], [7, 7, 7], [7, 7, 7], [6, 6, 6], ...  glioma_tumor   \n",
       "3  [[[0, 0, 0], [0, 0, 0], [0, 0, 0], [0, 0, 0], ...  glioma_tumor   \n",
       "4  [[[0, 0, 0], [0, 0, 0], [0, 0, 0], [0, 0, 0], ...  glioma_tumor   \n",
       "\n",
       "                                            Fullpath  \n",
       "0  d:\\COSAS\\BOOTCAMP\\MLProyect\\data\\Testing\\gliom...  \n",
       "1  d:\\COSAS\\BOOTCAMP\\MLProyect\\data\\Testing\\gliom...  \n",
       "2  d:\\COSAS\\BOOTCAMP\\MLProyect\\data\\Testing\\gliom...  \n",
       "3  d:\\COSAS\\BOOTCAMP\\MLProyect\\data\\Testing\\gliom...  \n",
       "4  d:\\COSAS\\BOOTCAMP\\MLProyect\\data\\Testing\\gliom...  "
      ],
      "text/html": "<div>\n<style scoped>\n    .dataframe tbody tr th:only-of-type {\n        vertical-align: middle;\n    }\n\n    .dataframe tbody tr th {\n        vertical-align: top;\n    }\n\n    .dataframe thead th {\n        text-align: right;\n    }\n</style>\n<table border=\"1\" class=\"dataframe\">\n  <thead>\n    <tr style=\"text-align: right;\">\n      <th></th>\n      <th>Image</th>\n      <th>Label</th>\n      <th>Fullpath</th>\n    </tr>\n  </thead>\n  <tbody>\n    <tr>\n      <th>0</th>\n      <td>[[[0, 0, 0], [0, 0, 0], [0, 0, 0], [0, 0, 0], ...</td>\n      <td>glioma_tumor</td>\n      <td>d:\\COSAS\\BOOTCAMP\\MLProyect\\data\\Testing\\gliom...</td>\n    </tr>\n    <tr>\n      <th>1</th>\n      <td>[[[0, 0, 0], [0, 0, 0], [0, 0, 0], [0, 0, 0], ...</td>\n      <td>glioma_tumor</td>\n      <td>d:\\COSAS\\BOOTCAMP\\MLProyect\\data\\Testing\\gliom...</td>\n    </tr>\n    <tr>\n      <th>2</th>\n      <td>[[[7, 7, 7], [7, 7, 7], [7, 7, 7], [6, 6, 6], ...</td>\n      <td>glioma_tumor</td>\n      <td>d:\\COSAS\\BOOTCAMP\\MLProyect\\data\\Testing\\gliom...</td>\n    </tr>\n    <tr>\n      <th>3</th>\n      <td>[[[0, 0, 0], [0, 0, 0], [0, 0, 0], [0, 0, 0], ...</td>\n      <td>glioma_tumor</td>\n      <td>d:\\COSAS\\BOOTCAMP\\MLProyect\\data\\Testing\\gliom...</td>\n    </tr>\n    <tr>\n      <th>4</th>\n      <td>[[[0, 0, 0], [0, 0, 0], [0, 0, 0], [0, 0, 0], ...</td>\n      <td>glioma_tumor</td>\n      <td>d:\\COSAS\\BOOTCAMP\\MLProyect\\data\\Testing\\gliom...</td>\n    </tr>\n  </tbody>\n</table>\n</div>"
     },
     "metadata": {},
     "execution_count": 5
    }
   ],
   "source": [
    "#Creating test data\n",
    "X_test = []\n",
    "y_test = []\n",
    "pathlist_test = []\n",
    "dicc_test = []\n",
    "image_size = 150\n",
    "for i in labels:\n",
    "    folderpath_test = dir(os.getcwd()) + os.sep + 'data'+ os.sep +'Testing'+ os.sep + i\n",
    "    for j in tqdm(os.listdir(folderpath_test)):\n",
    "        img = cv2.imread(os.path.join(folderpath_test,j))\n",
    "        img = cv2.resize(img,(image_size,image_size))\n",
    "        X_test.append(img)\n",
    "        y_test.append(i)\n",
    "        dicc_test.append({\"Image\":img, \"Label\":i, \"Fullpath\":os.path.join(folderpath_test,j)})\n",
    "X_test = np.array(X_test)\n",
    "y_test = np.array(y_test)\n",
    "pathlist_test = np.array(pathlist_test)\n",
    "\n",
    "df_test = pd.DataFrame(dicc_test)\n",
    "df_test.head()\n"
   ]
  },
  {
   "cell_type": "code",
   "execution_count": 9,
   "metadata": {},
   "outputs": [],
   "source": [
    "df_photos = df_train.append(df_test)"
   ]
  },
  {
   "cell_type": "code",
   "execution_count": null,
   "metadata": {},
   "outputs": [],
   "source": [
    "df_photos"
   ]
  },
  {
   "cell_type": "code",
   "execution_count": 10,
   "metadata": {},
   "outputs": [],
   "source": [
    "df_photos.to_csv('../data/df_photos.csv', index=False)"
   ]
  },
  {
   "cell_type": "code",
   "execution_count": null,
   "metadata": {},
   "outputs": [],
   "source": [
    "df_photos.to_json()"
   ]
  },
  {
   "cell_type": "code",
   "execution_count": 39,
   "metadata": {},
   "outputs": [
    {
     "output_type": "execute_result",
     "data": {
      "text/plain": [
       "(2870, 150, 150, 3)"
      ]
     },
     "metadata": {},
     "execution_count": 39
    }
   ],
   "source": [
    "X_train.shape"
   ]
  },
  {
   "cell_type": "code",
   "execution_count": 40,
   "metadata": {},
   "outputs": [
    {
     "output_type": "execute_result",
     "data": {
      "text/plain": [
       "(2870,)"
      ]
     },
     "metadata": {},
     "execution_count": 40
    }
   ],
   "source": [
    "y_train.shape"
   ]
  },
  {
   "cell_type": "code",
   "execution_count": 41,
   "metadata": {},
   "outputs": [
    {
     "output_type": "execute_result",
     "data": {
      "text/plain": [
       "(394, 150, 150, 3)"
      ]
     },
     "metadata": {},
     "execution_count": 41
    }
   ],
   "source": [
    "X_test.shape"
   ]
  },
  {
   "cell_type": "code",
   "execution_count": 78,
   "metadata": {},
   "outputs": [],
   "source": [
    "X_train = np.array(X_train).reshape(1,-1)\n",
    "y_train = np.array(y_train).reshape(1,-1)\n",
    "pathlist = np.array(pathlist).reshape(1,-1)"
   ]
  },
  {
   "cell_type": "code",
   "execution_count": 68,
   "metadata": {},
   "outputs": [
    {
     "output_type": "execute_result",
     "data": {
      "text/plain": [
       "array([[0, 0, 0, ..., 0, 0, 0]], dtype=uint8)"
      ]
     },
     "metadata": {},
     "execution_count": 68
    }
   ],
   "source": [
    "X_train"
   ]
  },
  {
   "cell_type": "code",
   "execution_count": 69,
   "metadata": {},
   "outputs": [
    {
     "output_type": "execute_result",
     "data": {
      "text/plain": [
       "array([['glioma_tumor', 'glioma_tumor', 'glioma_tumor', ...,\n",
       "        'pituitary_tumor', 'pituitary_tumor', 'pituitary_tumor']],\n",
       "      dtype='<U16')"
      ]
     },
     "metadata": {},
     "execution_count": 69
    }
   ],
   "source": [
    "y_train"
   ]
  },
  {
   "cell_type": "code",
   "execution_count": 44,
   "metadata": {},
   "outputs": [],
   "source": [
    "y_train_new = []\n",
    "for i in y_train:\n",
    "    y_train_new.append(labels.index(i))\n",
    "y_train = y_train_new\n",
    "y_train = tf.keras.utils.to_categorical(y_train)\n",
    "\n",
    "\n",
    "y_test_new = []\n",
    "for i in y_test:\n",
    "    y_test_new.append(labels.index(i))\n",
    "y_test = y_test_new\n",
    "y_test = tf.keras.utils.to_categorical(y_test)"
   ]
  },
  {
   "cell_type": "code",
   "execution_count": 27,
   "metadata": {},
   "outputs": [],
   "source": [
    "X_train, y_train = shuffle(X_train,y_train, random_state=153)"
   ]
  },
  {
   "cell_type": "code",
   "execution_count": 13,
   "metadata": {},
   "outputs": [
    {
     "output_type": "execute_result",
     "data": {
      "text/plain": [
       "(2870, 150, 150, 3)"
      ]
     },
     "metadata": {},
     "execution_count": 13
    }
   ],
   "source": [
    "datagen = ImageDataGenerator(\n",
    "    rotation_range=30,\n",
    "    width_shift_range=0.1,\n",
    "    height_shift_range=0.1,\n",
    "    zoom_range=0.2,\n",
    "    horizontal_flip=True)\n",
    "\n",
    "datagen.fit(X_train)\n",
    "X_train.shape"
   ]
  },
  {
   "cell_type": "code",
   "execution_count": 27,
   "metadata": {},
   "outputs": [],
   "source": [
    "X_train,X_test,y_train,y_test = train_test_split(X_train,y_train, test_size=0.2,random_state=153)"
   ]
  },
  {
   "cell_type": "code",
   "execution_count": 45,
   "metadata": {},
   "outputs": [],
   "source": [
    "effnet = EfficientNetB0(weights='imagenet',include_top=False,input_shape=(image_size,image_size,3))"
   ]
  },
  {
   "cell_type": "code",
   "execution_count": 46,
   "metadata": {},
   "outputs": [],
   "source": [
    "model = effnet.output\n",
    "model = tf.keras.layers.GlobalAveragePooling2D()(model)\n",
    "model = tf.keras.layers.Dropout(rate=0.5)(model)\n",
    "model = tf.keras.layers.Dense(4,activation='softmax')(model)\n",
    "model = tf.keras.models.Model(inputs=effnet.input, outputs = model)"
   ]
  },
  {
   "cell_type": "code",
   "execution_count": 47,
   "metadata": {},
   "outputs": [],
   "source": [
    "model.compile(loss='categorical_crossentropy',optimizer = 'Adam', metrics= ['accuracy'])"
   ]
  },
  {
   "cell_type": "code",
   "execution_count": 49,
   "metadata": {},
   "outputs": [
    {
     "output_type": "stream",
     "name": "stdout",
     "text": [
      "Epoch 1/5\n",
      "81/81 [==============================] - 239s 3s/step - loss: 0.2212 - accuracy: 0.9199 - val_loss: 1.8457 - val_accuracy: 0.5854\n",
      "Epoch 2/5\n",
      "81/81 [==============================] - 229s 3s/step - loss: 0.1125 - accuracy: 0.9593 - val_loss: 0.5741 - val_accuracy: 0.8362\n",
      "Epoch 3/5\n",
      "81/81 [==============================] - 239s 3s/step - loss: 0.0746 - accuracy: 0.9741 - val_loss: 0.7051 - val_accuracy: 0.8049\n",
      "Epoch 4/5\n",
      "81/81 [==============================] - 228s 3s/step - loss: 0.0621 - accuracy: 0.9783 - val_loss: 0.4743 - val_accuracy: 0.8711\n",
      "Epoch 5/5\n",
      "81/81 [==============================] - 224s 3s/step - loss: 0.1007 - accuracy: 0.9698 - val_loss: 0.0628 - val_accuracy: 0.9895\n"
     ]
    }
   ],
   "source": [
    "history = model.fit(X_train,y_train,validation_split=0.1, epochs =5, verbose=1, batch_size=32)"
   ]
  },
  {
   "cell_type": "code",
   "execution_count": 50,
   "metadata": {},
   "outputs": [],
   "source": [
    "pred = model.predict(X_test)\n",
    "pred = np.argmax(pred,axis=1)\n",
    "y_test_new = np.argmax(y_test,axis=1)"
   ]
  },
  {
   "cell_type": "code",
   "execution_count": 51,
   "metadata": {},
   "outputs": [
    {
     "output_type": "stream",
     "name": "stdout",
     "text": [
      "              precision    recall  f1-score   support\n\n           0       0.86      0.25      0.39       100\n           1       0.80      0.97      0.88       105\n           2       0.75      0.87      0.81       115\n           3       0.65      0.92      0.76        74\n\n    accuracy                           0.75       394\n   macro avg       0.77      0.75      0.71       394\nweighted avg       0.77      0.75      0.71       394\n\n"
     ]
    }
   ],
   "source": [
    "print(classification_report(y_test_new,pred))"
   ]
  },
  {
   "source": [
    "0 = 'glioma_tumor'\n",
    "1 = 'no_tumor'\n",
    "2 = 'meningioma_tumor'\n",
    "3 = 'pituitary_tumor'"
   ],
   "cell_type": "markdown",
   "metadata": {}
  },
  {
   "cell_type": "code",
   "execution_count": 52,
   "metadata": {},
   "outputs": [
    {
     "output_type": "stream",
     "name": "stderr",
     "text": [
      "C:\\Users\\marin\\AppData\\Local\\Programs\\Python\\Python37\\lib\\site-packages\\tensorflow\\python\\keras\\utils\\generic_utils.py:497: CustomMaskWarning: Custom mask layers require a config and must override get_config. When loading, the custom mask layer must be passed to the custom_objects argument.\n  category=CustomMaskWarning)\n"
     ]
    }
   ],
   "source": [
    "model.save('../models/model_2.h5')"
   ]
  },
  {
   "cell_type": "code",
   "execution_count": null,
   "metadata": {},
   "outputs": [],
   "source": [
    "#This worked here but not with functions, i will leave it this way"
   ]
  }
 ]
}