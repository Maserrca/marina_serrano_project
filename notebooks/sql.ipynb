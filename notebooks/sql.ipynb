{
 "metadata": {
  "language_info": {
   "codemirror_mode": {
    "name": "ipython",
    "version": 3
   },
   "file_extension": ".py",
   "mimetype": "text/x-python",
   "name": "python",
   "nbconvert_exporter": "python",
   "pygments_lexer": "ipython3",
   "version": "3.7.4"
  },
  "orig_nbformat": 4,
  "kernelspec": {
   "name": "python3",
   "display_name": "Python 3.7.4 64-bit"
  },
  "interpreter": {
   "hash": "797ece2db6cd49410b212500b07c3b6429b528fb918ab6c0d0ffbc4c51c5b09e"
  }
 },
 "nbformat": 4,
 "nbformat_minor": 2,
 "cells": [
  {
   "cell_type": "code",
   "execution_count": 16,
   "metadata": {},
   "outputs": [],
   "source": [
    "import os, sys"
   ]
  },
  {
   "cell_type": "code",
   "execution_count": 17,
   "metadata": {},
   "outputs": [
    {
     "output_type": "stream",
     "name": "stdout",
     "text": [
      "d:\\COSAS\\BOOTCAMP\\MLProyect\n"
     ]
    }
   ],
   "source": [
    "dir = os.path.dirname\n",
    "path = dir(os.getcwd())\n",
    "print(path)\n",
    "sys.path.append(path)"
   ]
  },
  {
   "cell_type": "code",
   "execution_count": 18,
   "metadata": {},
   "outputs": [],
   "source": [
    "import os, sys\n",
    "import src.utils.sql_tb as sql\n",
    "import pandas as pd\n",
    "import json\n",
    "from scr.main import df_train df_test"
   ]
  },
  {
   "cell_type": "code",
   "execution_count": null,
   "metadata": {},
   "outputs": [],
   "source": [
    "df_to_sql = df_train.append(df_test)\n",
    "df_to_sql.drop('Image', axis =1, inplace=True )\n",
    "df_to_sql['Dimension'] = '100x100'\n",
    "df_to_sql.to_csv('../data/df_sql.csv', index=False)"
   ]
  },
  {
   "cell_type": "code",
   "execution_count": 4,
   "metadata": {},
   "outputs": [
    {
     "output_type": "execute_result",
     "data": {
      "text/plain": [
       "{'IP_DNS': 'consciencesai.com',\n",
       " 'PORT': 30001,\n",
       " 'USER': '53994161m',\n",
       " 'PASSWORD': 'marina.serranoc',\n",
       " 'BD_NAME': '53994161m_ds_april_2021_db'}"
      ]
     },
     "metadata": {},
     "execution_count": 4
    }
   ],
   "source": [
    "sql.json"
   ]
  },
  {
   "cell_type": "code",
   "execution_count": 5,
   "metadata": {},
   "outputs": [],
   "source": [
    "path = os.path.dirname(os.getcwd())\n",
    "sys.path.append(path)\n",
    "\n",
    "settings_file = path + os.sep + \"src\" + os.sep + \"utils\" + os.sep + \"bd_info.json\"\n",
    "\n",
    "def read_json(fullpath):\n",
    "    with open(fullpath, \"r\") as json_file_readed:\n",
    "        json_readed = json.load(json_file_readed)\n",
    "    return json_readed\n",
    "\n",
    "json_r = read_json(fullpath=settings_file)\n",
    "\n",
    "IP_DNS = json_r[\"IP_DNS\"]\n",
    "PORT = json_r[\"PORT\"]\n",
    "USER = json_r[\"USER\"]\n",
    "PASSWORD = json_r[\"PASSWORD\"]\n",
    "BD_NAME = json_r[\"BD_NAME\"]"
   ]
  },
  {
   "cell_type": "code",
   "execution_count": 7,
   "metadata": {},
   "outputs": [],
   "source": [
    "mysql = sql.MySQL(IP_DNS, USER, PASSWORD, BD_NAME, PORT)"
   ]
  },
  {
   "cell_type": "code",
   "execution_count": 8,
   "metadata": {},
   "outputs": [
    {
     "output_type": "stream",
     "name": "stdout",
     "text": [
      "Connected to MySQL server [53994161m_ds_april_2021_db]\n"
     ]
    }
   ],
   "source": [
    "con = mysql.connect()"
   ]
  },
  {
   "cell_type": "code",
   "execution_count": 9,
   "metadata": {},
   "outputs": [],
   "source": [
    "df_sql = pd.read_csv('../data/df_sql.csv')"
   ]
  },
  {
   "cell_type": "code",
   "execution_count": 13,
   "metadata": {},
   "outputs": [],
   "source": [
    "from sqlalchemy import create_engine\n",
    "engine = create_engine('mysql+pymysql://' + sql.json['USER'] + ':' + sql.json['PASSWORD'] + '@' + sql.json['IP_DNS'] + ':' + str(sql.json['PORT'])+ '/' + sql.json['BD_NAME'])\n",
    "con = engine.connect()"
   ]
  },
  {
   "cell_type": "code",
   "execution_count": 14,
   "metadata": {},
   "outputs": [],
   "source": [
    "df_sql.to_sql(con=con, name='marina_serrano_carot', if_exists='replace', index=False)"
   ]
  },
  {
   "cell_type": "code",
   "execution_count": null,
   "metadata": {},
   "outputs": [],
   "source": [
    "mysql.close"
   ]
  }
 ]
}